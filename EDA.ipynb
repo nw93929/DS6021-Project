{
 "cells": [
  {
   "cell_type": "code",
   "execution_count": null,
   "id": "72d484c7",
   "metadata": {},
   "outputs": [],
   "source": [
    "import numpy as np\n",
    "import pandas as pd\n",
    "import requests\n",
    "import json\n",
    "import os\n",
    "import dotenv\n",
    "# import plotly.express as px\n",
    "# import statsmodels.formula.api as smf\n",
    "# import statsmodels.api as sm"
   ]
  }
 ],
 "metadata": {
  "language_info": {
   "name": "python"
  }
 },
 "nbformat": 4,
 "nbformat_minor": 5
}
